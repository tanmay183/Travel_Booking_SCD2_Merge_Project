{
 "cells": [
  {
   "cell_type": "code",
   "execution_count": 0,
   "metadata": {
    "application/vnd.databricks.v1+cell": {
     "cellMetadata": {
      "byteLimit": 2048000,
      "rowLimit": 10000
     },
     "inputWidgets": {},
     "nuid": "1f1e7ee6-5fff-47e6-a64b-575525572d8b",
     "showTitle": false,
     "tableResultSettingsMap": {},
     "title": ""
    }
   },
   "outputs": [
    {
     "output_type": "stream",
     "name": "stdout",
     "output_type": "stream",
     "text": [
      "3.5.0\n/Volumes/incremental_load/default/orders_data/booking_data/bookings_2024-07-25.csv\n/Volumes/incremental_load/default/orders_data/customer_data/customers_2024-07-25.csv\nroot\n |-- booking_id: integer (nullable = true)\n |-- customer_id: integer (nullable = true)\n |-- booking_date: date (nullable = true)\n |-- amount: integer (nullable = true)\n |-- booking_type: string (nullable = true)\n |-- quantity: integer (nullable = true)\n |-- discount: integer (nullable = true)\n |-- booking_status: string (nullable = true)\n |-- hotel_name: string (nullable = true)\n |-- flight_number: string (nullable = true)\n\n"
     ]
    },
    {
     "output_type": "display_data",
     "data": {
      "text/plain": [
       "'/Volumes/incremental_load/default/orders_data/booking_data/bookings_2024-07-25.csv'"
      ]
     },
     "metadata": {},
     "output_type": "display_data"
    },
    {
     "output_type": "stream",
     "name": "stdout",
     "output_type": "stream",
     "text": [
      "root\n |-- customer_id: integer (nullable = true)\n |-- customer_name: string (nullable = true)\n |-- customer_address: string (nullable = true)\n |-- phone_number: string (nullable = true)\n |-- email: string (nullable = true)\n |-- valid_from: date (nullable = true)\n |-- valid_to: date (nullable = true)\n\n"
     ]
    },
    {
     "output_type": "display_data",
     "data": {
      "text/html": [
       "<style scoped>\n",
       "  .table-result-container {\n",
       "    max-height: 300px;\n",
       "    overflow: auto;\n",
       "  }\n",
       "  table, th, td {\n",
       "    border: 1px solid black;\n",
       "    border-collapse: collapse;\n",
       "  }\n",
       "  th, td {\n",
       "    padding: 5px;\n",
       "  }\n",
       "  th {\n",
       "    text-align: left;\n",
       "  }\n",
       "</style><div class='table-result-container'><table class='table-result'><thead style='background-color: white'><tr><th>customer_id</th><th>customer_name</th><th>customer_address</th><th>phone_number</th><th>email</th><th>valid_from</th><th>valid_to</th></tr></thead><tbody><tr><td>1007</td><td>Robert Johnson</td><td>574 Patel Drive Apt. 043\n",
       "Jonesville, TX 54199</td><td>001-927-927-7643x34711</td><td>danielbrown@west.com</td><td>2022-09-26</td><td>9999-12-31</td></tr><tr><td>1093</td><td>Eric Glenn</td><td>2560 Christian Junctions\n",
       "North Shane, CA 88681</td><td>001-944-838-5681</td><td>tarabradley@jones.com</td><td>2023-06-21</td><td>9999-12-31</td></tr><tr><td>1081</td><td>Scott Jones</td><td>591 Richard Lodge Suite 568\n",
       "New John, HI 87997</td><td>239.669.1888x6136</td><td>nicolefisher@miller.com</td><td>2022-10-19</td><td>9999-12-31</td></tr><tr><td>1036</td><td>Kimberly Garza</td><td>USNS Reilly\n",
       "FPO AP 52950</td><td>8095911248</td><td>sdavis@gmail.com</td><td>2022-11-12</td><td>9999-12-31</td></tr><tr><td>1022</td><td>Thomas Mathis</td><td>2386 Parker Mountain\n",
       "East Sharonmouth, IL 15940</td><td>+1-871-965-0054</td><td>jennifer65@gmail.com</td><td>2023-02-04</td><td>9999-12-31</td></tr><tr><td>1062</td><td>Steven Steele</td><td>6203 Smith Forest\n",
       "Lake Crystalchester, CA 67075</td><td>(253)242-6269x1355</td><td>johnsonannette@wallace-griffith.com</td><td>2022-11-12</td><td>9999-12-31</td></tr><tr><td>1021</td><td>Nicholas Anderson</td><td>578 Hill Village Suite 210\n",
       "Evansbury, UT 95568</td><td>008-256-3946</td><td>mavery@baker-ayala.com</td><td>2023-01-09</td><td>9999-12-31</td></tr><tr><td>1037</td><td>Richard Owens</td><td>2941 Nicole Extensions\n",
       "Jeffreyport, OH 42853</td><td>001-874-094-3134x8557</td><td>jfields@stone.com</td><td>2023-02-22</td><td>9999-12-31</td></tr><tr><td>1047</td><td>Nina Weeks</td><td>4250 Burns Forges Suite 922\n",
       "West Christopher, SC 88814</td><td>574-638-3211x5713</td><td>ohowell@berry.com</td><td>2023-03-31</td><td>9999-12-31</td></tr><tr><td>1099</td><td>Steven Mathews</td><td>4536 Michele Village Suite 277\n",
       "North Tracy, NV 18979</td><td>522-742-2881x05998</td><td>thomaserica@yahoo.com</td><td>2022-11-07</td><td>9999-12-31</td></tr><tr><td>1049</td><td>Heather Reyes</td><td>6640 Lopez Bridge Suite 704\n",
       "South Craig, DC 35590</td><td>207-774-3705x056</td><td>scottphillips@walker-fowler.info</td><td>2022-12-01</td><td>9999-12-31</td></tr><tr><td>1033</td><td>Jennifer Keith</td><td>8910 Lisa Fields Suite 988\n",
       "South Kevinside, KY 08054</td><td>(601)739-7151</td><td>jasmine96@williams.biz</td><td>2023-03-11</td><td>9999-12-31</td></tr><tr><td>1006</td><td>Kathleen Thompson</td><td>8405 Rodriguez Viaduct Apt. 520\n",
       "Carterton, IL 81631</td><td>(102)681-5777x90986</td><td>klevy@williamson.com</td><td>2023-01-11</td><td>9999-12-31</td></tr><tr><td>1057</td><td>Lori Martinez</td><td>67540 Katherine Passage\n",
       "East Patrickhaven, MD 99928</td><td>001-527-829-8855x641</td><td>daniellelin@mills-garcia.com</td><td>2022-11-15</td><td>9999-12-31</td></tr><tr><td>1042</td><td>Donna Miller</td><td>52347 Hunt Path\n",
       "New Dwayne, DE 13255</td><td>+1-060-502-5300x788</td><td>shannonhayden@garcia-wolf.com</td><td>2023-01-22</td><td>9999-12-31</td></tr><tr><td>1078</td><td>Robert Smith</td><td>0842 White Rapid Apt. 888\n",
       "Melodyburgh, WA 23182</td><td>480-845-2524x4108</td><td>gregorysparks@gmail.com</td><td>2022-07-29</td><td>9999-12-31</td></tr><tr><td>1008</td><td>Jason Gray</td><td>470 Lynch Estates\n",
       "Warrenstad, NV 41388</td><td>001-369-292-9008</td><td>evaughn@hotmail.com</td><td>2022-07-28</td><td>9999-12-31</td></tr><tr><td>1038</td><td>Eric Mathews</td><td>818 David Mountains\n",
       "Wolfton, RI 26711</td><td>223-941-9820x180</td><td>james57@hotmail.com</td><td>2023-03-22</td><td>9999-12-31</td></tr><tr><td>1089</td><td>Donna Morris</td><td>83829 Michele Pike Apt. 088\n",
       "Melissastad, CA 34903</td><td>+1-880-767-9115x68614</td><td>ldouglas@roach-chavez.com</td><td>2023-06-05</td><td>9999-12-31</td></tr><tr><td>1030</td><td>Deborah Mueller</td><td>3311 Roberts Glens\n",
       "Port Daltonmouth, ND 33114</td><td>(894)453-2442</td><td>chelseaellis@luna.org</td><td>2022-08-25</td><td>9999-12-31</td></tr><tr><td>1066</td><td>Vincent Nelson</td><td>USS Henderson\n",
       "FPO AP 87389</td><td>262.176.4956x738</td><td>dustin59@hotmail.com</td><td>2022-10-24</td><td>9999-12-31</td></tr><tr><td>1086</td><td>Anthony Ford</td><td>0148 Lowery Estate Apt. 377\n",
       "Lake Cindy, NC 32001</td><td>879-248-0686x56916</td><td>justinbailey@perez-smith.biz</td><td>2023-07-07</td><td>9999-12-31</td></tr><tr><td>1053</td><td>Nicholas Butler</td><td>96161 Mark Creek Apt. 574\n",
       "New Moniqueshire, OK 35904</td><td>130-645-0302x66302</td><td>hfrank@pope-rose.com</td><td>2022-10-21</td><td>9999-12-31</td></tr><tr><td>1060</td><td>Denise Parker</td><td>26328 Hector Orchard Suite 735\n",
       "New Charlesfurt, ME 57730</td><td>1577292803</td><td>carolgarrison@cobb.org</td><td>2023-07-17</td><td>9999-12-31</td></tr><tr><td>1056</td><td>Thomas Fleming</td><td>64049 Megan Mews Suite 377\n",
       "East Dianamouth, CT 09338</td><td>113.716.4320</td><td>watsonstacey@hotmail.com</td><td>2023-03-23</td><td>9999-12-31</td></tr><tr><td>1097</td><td>Gabriel Decker</td><td>Unit 4050 Box 7535\n",
       "DPO AE 13098</td><td>403.820.8864x0672</td><td>nguyenjennifer@peterson-mitchell.net</td><td>2022-09-29</td><td>9999-12-31</td></tr><tr><td>1088</td><td>Cole Rubio</td><td>36623 Ramsey Mountains Apt. 234\n",
       "South Carriemouth, WY 23697</td><td>8188179800</td><td>valenciaandrew@long.net</td><td>2022-09-08</td><td>9999-12-31</td></tr><tr><td>1048</td><td>Harold Vasquez</td><td>6743 Cooper Ports Apt. 432\n",
       "Smithton, WI 94915</td><td>001-258-362-6706x48787</td><td>sarahharris@gmail.com</td><td>2023-02-03</td><td>9999-12-31</td></tr><tr><td>1054</td><td>Jose Abbott</td><td>506 Courtney Canyon Apt. 598\n",
       "Devinmouth, DE 52302</td><td>278.414.2902x1796</td><td>charleshughes@gmail.com</td><td>2023-01-21</td><td>9999-12-31</td></tr><tr><td>1069</td><td>Andrew Collins</td><td>37675 Spencer Alley\n",
       "Chadmouth, TN 22521</td><td>765.885.9782x98684</td><td>daniel62@fields.info</td><td>2023-05-05</td><td>9999-12-31</td></tr><tr><td>1090</td><td>Mark Wong</td><td>3642 Joshua Corner Apt. 327\n",
       "South Chadstad, MO 95945</td><td>776-238-1119x1824</td><td>angela00@yahoo.com</td><td>2022-11-07</td><td>9999-12-31</td></tr><tr><td>1077</td><td>Cheryl Edwards</td><td>95025 Martinez Drives\n",
       "Port Tammyberg, OR 82927</td><td>660.870.4838x29938</td><td>zwallace@gmail.com</td><td>2023-03-20</td><td>9999-12-31</td></tr><tr><td>1026</td><td>Courtney Myers</td><td>92730 Mccoy Ville Apt. 813\n",
       "West Walterburgh, KY 26690</td><td>001-256-984-5119</td><td>qbarrett@yahoo.com</td><td>2023-05-24</td><td>9999-12-31</td></tr><tr><td>1074</td><td>David Bryant</td><td>191 Kelly Terrace Apt. 686\n",
       "Taylorville, NY 06351</td><td>001-430-265-0785x245</td><td>mwilkinson@johnson.net</td><td>2022-08-19</td><td>9999-12-31</td></tr><tr><td>1039</td><td>Michael Todd</td><td>2620 Tyler Mill Suite 442\n",
       "Thompsonhaven, NY 60834</td><td>153.085.8257x513</td><td>heatherreese@diaz-greene.org</td><td>2023-02-01</td><td>9999-12-31</td></tr><tr><td>1015</td><td>John Allison</td><td>165 Jasmine Square\n",
       "Weaverbury, GA 77553</td><td>001-415-337-2883x8689</td><td>johnmoore@hotmail.com</td><td>2023-04-25</td><td>9999-12-31</td></tr><tr><td>1013</td><td>Willie Smith</td><td>16468 Williams Ports\n",
       "Lake Tylerfurt, IA 97660</td><td>(469)888-4572x704</td><td>barrylee@gmail.com</td><td>2023-05-25</td><td>9999-12-31</td></tr><tr><td>1017</td><td>Pamela Perkins</td><td>5651 Pearson Trail Suite 285\n",
       "Lake Tyler, NJ 06477</td><td>001-477-494-9842x168</td><td>vasquezchristina@peters.net</td><td>2023-06-05</td><td>9999-12-31</td></tr><tr><td>1083</td><td>Sean Norman</td><td>843 Martin Shoal\n",
       "Lake Andreaville, TN 85585</td><td>001-470-296-8420x0655</td><td>ksnow@richardson.biz</td><td>2023-06-07</td><td>9999-12-31</td></tr><tr><td>1023</td><td>Natalie Pennington</td><td>4969 Lewis Port\n",
       "Port Catherineview, MN 78390</td><td>(195)327-1676</td><td>ramosnatalie@stout-moses.net</td><td>2023-02-23</td><td>9999-12-31</td></tr><tr><td>1050</td><td>Suzanne Nelson</td><td>58493 Colin Stream Apt. 787\n",
       "Port Laurieburgh, FL 26451</td><td>+1-800-386-9692x065</td><td>jasonthomas@gray.com</td><td>2023-07-07</td><td>9999-12-31</td></tr><tr><td>1005</td><td>Lisa Wilson</td><td>324 Smith Springs\n",
       "Lake Kathleen, MI 46779</td><td>001-398-400-0662x13884</td><td>plynn@singh.com</td><td>2022-11-13</td><td>9999-12-31</td></tr><tr><td>1035</td><td>Peter Lopez</td><td>202 Macdonald Mountain Suite 452\n",
       "North Ashleyhaven, IN 48938</td><td>(283)270-6720</td><td>carpenterdylan@bates-roberts.org</td><td>2023-06-28</td><td>9999-12-31</td></tr><tr><td>1095</td><td>Melissa Jackson</td><td>00726 Sean Mountain Suite 299\n",
       "East Juan, WV 15026</td><td>(228)445-6060x3013</td><td>jennifergaines@ray.com</td><td>2022-08-15</td><td>9999-12-31</td></tr><tr><td>1079</td><td>Ruben Parrish</td><td>02681 Jones Harbors\n",
       "South Kristina, LA 87175</td><td>252.977.2962</td><td>cbrowning@english.biz</td><td>2023-02-28</td><td>9999-12-31</td></tr><tr><td>1098</td><td>Sarah Alexander</td><td>1811 Lisa Lake\n",
       "Christopherstad, NC 00601</td><td>4675134336</td><td>zwest@boyd-torres.com</td><td>2022-07-30</td><td>9999-12-31</td></tr><tr><td>1003</td><td>Marissa Blair</td><td>370 Rodriguez Station Suite 432\n",
       "Jenkinsmouth, NY 12919</td><td>+1-009-154-3329x478</td><td>dschwartz@gmail.com</td><td>2022-11-04</td><td>9999-12-31</td></tr><tr><td>1064</td><td>Brandon Merritt</td><td>2491 Jason Fields\n",
       "West Michaelbury, DC 20290</td><td>854-351-7495x6687</td><td>sean50@yahoo.com</td><td>2022-12-10</td><td>9999-12-31</td></tr><tr><td>1085</td><td>Candace Smith</td><td>327 James Lakes Suite 476\n",
       "West Kyle, IL 49672</td><td>(076)686-6167x055</td><td>cassidymiller@stewart.com</td><td>2022-08-10</td><td>9999-12-31</td></tr><tr><td>1014</td><td>John Peterson</td><td>25762 Jill Key\n",
       "Leslieport, IL 26675</td><td>+1-629-094-4637</td><td>gjoseph@jennings.com</td><td>2023-04-17</td><td>9999-12-31</td></tr><tr><td>1019</td><td>Paul Jones</td><td>7793 White Plains Apt. 667\n",
       "Smithfort, MD 39017</td><td>7012178815</td><td>darren45@morales-roberts.com</td><td>2022-11-09</td><td>9999-12-31</td></tr><tr><td>1002</td><td>Belinda Walsh</td><td>811 Daniel Crescent\n",
       "Vaughnland, DE 12902</td><td>(124)398-7985x7797</td><td>theresa38@murphy.com</td><td>2022-11-22</td><td>9999-12-31</td></tr><tr><td>1096</td><td>Jodi Brown</td><td>86107 Tyler Plains Apt. 190\n",
       "New Benjaminburgh, WI 37527</td><td>001-710-270-0166x23248</td><td>clayton58@morris-estrada.com</td><td>2022-09-20</td><td>9999-12-31</td></tr><tr><td>1012</td><td>Jason Bowman</td><td>07748 Wiggins Park\n",
       "Hallport, MD 39640</td><td>696.318.3009x3705</td><td>tcooke@yahoo.com</td><td>2022-10-04</td><td>9999-12-31</td></tr><tr><td>1067</td><td>Thomas Bautista</td><td>454 Nathan Skyway\n",
       "West Matthew, MN 39102</td><td>(549)528-0623x24086</td><td>vtrujillo@randall.com</td><td>2023-01-09</td><td>9999-12-31</td></tr><tr><td>1001</td><td>Elizabeth Olson</td><td>05736 Trevor Ville Suite 638\n",
       "Robertton, OR 38207</td><td>260.694.4065x215</td><td>tammy97@cobb-clarke.com</td><td>2022-09-22</td><td>9999-12-31</td></tr><tr><td>1020</td><td>Madison Burns</td><td>51141 Hart Locks Suite 297\n",
       "Erinmouth, WY 80641</td><td>(076)048-2458</td><td>xdoyle@peck-salas.biz</td><td>2023-07-11</td><td>9999-12-31</td></tr><tr><td>1043</td><td>Jennifer Berry</td><td>049 Ford Radial\n",
       "Port Jimmy, MO 06619</td><td>001-155-136-4225x03698</td><td>amanda86@reese-alvarado.com</td><td>2022-08-20</td><td>9999-12-31</td></tr><tr><td>1087</td><td>Laura Gaines</td><td>PSC 1657, Box 0716\n",
       "APO AA 53357</td><td>220.591.8219</td><td>linda44@gmail.com</td><td>2023-07-08</td><td>9999-12-31</td></tr><tr><td>1009</td><td>Bridget Morris</td><td>2915 Theresa Lakes Suite 127\n",
       "Rachelberg, NY 70405</td><td>(362)855-0710x194</td><td>fharris@gmail.com</td><td>2023-01-30</td><td>9999-12-31</td></tr><tr><td>1070</td><td>Alexander Franklin</td><td>66072 Mosley Rapids Suite 380\n",
       "South Adrienneburgh, UT 96769</td><td>309.907.9642</td><td>pbenson@cruz.net</td><td>2022-08-25</td><td>9999-12-31</td></tr><tr><td>1058</td><td>Rachel Ward</td><td>04357 Joseph Rapids\n",
       "Lake Jamesbury, KY 79474</td><td>+1-252-289-2233x5717</td><td>zlong@hotmail.com</td><td>2023-01-31</td><td>9999-12-31</td></tr><tr><td>1059</td><td>Alicia Saunders</td><td>462 Michael Glen\n",
       "Josephberg, DC 93372</td><td>907-146-7133</td><td>jessewatson@hotmail.com</td><td>2022-08-04</td><td>9999-12-31</td></tr><tr><td>1065</td><td>Alyssa Cruz</td><td>797 Rachel Vista\n",
       "Robertborough, NV 89566</td><td>162.434.5015x916</td><td>dnavarro@ford-bell.com</td><td>2023-01-21</td><td>9999-12-31</td></tr></tbody></table></div>"
      ]
     },
     "metadata": {
      "application/vnd.databricks.v1+output": {
       "addedWidgets": {},
       "aggData": [],
       "aggError": "",
       "aggOverflow": false,
       "aggSchema": [],
       "aggSeriesLimitReached": false,
       "aggType": "",
       "arguments": {},
       "columnCustomDisplayInfos": {},
       "data": [
        [
         1007,
         "Robert Johnson",
         "574 Patel Drive Apt. 043\nJonesville, TX 54199",
         "001-927-927-7643x34711",
         "danielbrown@west.com",
         "2022-09-26",
         "9999-12-31"
        ],
        [
         1093,
         "Eric Glenn",
         "2560 Christian Junctions\nNorth Shane, CA 88681",
         "001-944-838-5681",
         "tarabradley@jones.com",
         "2023-06-21",
         "9999-12-31"
        ],
        [
         1081,
         "Scott Jones",
         "591 Richard Lodge Suite 568\nNew John, HI 87997",
         "239.669.1888x6136",
         "nicolefisher@miller.com",
         "2022-10-19",
         "9999-12-31"
        ],
        [
         1036,
         "Kimberly Garza",
         "USNS Reilly\nFPO AP 52950",
         "8095911248",
         "sdavis@gmail.com",
         "2022-11-12",
         "9999-12-31"
        ],
        [
         1022,
         "Thomas Mathis",
         "2386 Parker Mountain\nEast Sharonmouth, IL 15940",
         "+1-871-965-0054",
         "jennifer65@gmail.com",
         "2023-02-04",
         "9999-12-31"
        ],
        [
         1062,
         "Steven Steele",
         "6203 Smith Forest\nLake Crystalchester, CA 67075",
         "(253)242-6269x1355",
         "johnsonannette@wallace-griffith.com",
         "2022-11-12",
         "9999-12-31"
        ],
        [
         1021,
         "Nicholas Anderson",
         "578 Hill Village Suite 210\nEvansbury, UT 95568",
         "008-256-3946",
         "mavery@baker-ayala.com",
         "2023-01-09",
         "9999-12-31"
        ],
        [
         1037,
         "Richard Owens",
         "2941 Nicole Extensions\nJeffreyport, OH 42853",
         "001-874-094-3134x8557",
         "jfields@stone.com",
         "2023-02-22",
         "9999-12-31"
        ],
        [
         1047,
         "Nina Weeks",
         "4250 Burns Forges Suite 922\nWest Christopher, SC 88814",
         "574-638-3211x5713",
         "ohowell@berry.com",
         "2023-03-31",
         "9999-12-31"
        ],
        [
         1099,
         "Steven Mathews",
         "4536 Michele Village Suite 277\nNorth Tracy, NV 18979",
         "522-742-2881x05998",
         "thomaserica@yahoo.com",
         "2022-11-07",
         "9999-12-31"
        ],
        [
         1049,
         "Heather Reyes",
         "6640 Lopez Bridge Suite 704\nSouth Craig, DC 35590",
         "207-774-3705x056",
         "scottphillips@walker-fowler.info",
         "2022-12-01",
         "9999-12-31"
        ],
        [
         1033,
         "Jennifer Keith",
         "8910 Lisa Fields Suite 988\nSouth Kevinside, KY 08054",
         "(601)739-7151",
         "jasmine96@williams.biz",
         "2023-03-11",
         "9999-12-31"
        ],
        [
         1006,
         "Kathleen Thompson",
         "8405 Rodriguez Viaduct Apt. 520\nCarterton, IL 81631",
         "(102)681-5777x90986",
         "klevy@williamson.com",
         "2023-01-11",
         "9999-12-31"
        ],
        [
         1057,
         "Lori Martinez",
         "67540 Katherine Passage\nEast Patrickhaven, MD 99928",
         "001-527-829-8855x641",
         "daniellelin@mills-garcia.com",
         "2022-11-15",
         "9999-12-31"
        ],
        [
         1042,
         "Donna Miller",
         "52347 Hunt Path\nNew Dwayne, DE 13255",
         "+1-060-502-5300x788",
         "shannonhayden@garcia-wolf.com",
         "2023-01-22",
         "9999-12-31"
        ],
        [
         1078,
         "Robert Smith",
         "0842 White Rapid Apt. 888\nMelodyburgh, WA 23182",
         "480-845-2524x4108",
         "gregorysparks@gmail.com",
         "2022-07-29",
         "9999-12-31"
        ],
        [
         1008,
         "Jason Gray",
         "470 Lynch Estates\nWarrenstad, NV 41388",
         "001-369-292-9008",
         "evaughn@hotmail.com",
         "2022-07-28",
         "9999-12-31"
        ],
        [
         1038,
         "Eric Mathews",
         "818 David Mountains\nWolfton, RI 26711",
         "223-941-9820x180",
         "james57@hotmail.com",
         "2023-03-22",
         "9999-12-31"
        ],
        [
         1089,
         "Donna Morris",
         "83829 Michele Pike Apt. 088\nMelissastad, CA 34903",
         "+1-880-767-9115x68614",
         "ldouglas@roach-chavez.com",
         "2023-06-05",
         "9999-12-31"
        ],
        [
         1030,
         "Deborah Mueller",
         "3311 Roberts Glens\nPort Daltonmouth, ND 33114",
         "(894)453-2442",
         "chelseaellis@luna.org",
         "2022-08-25",
         "9999-12-31"
        ],
        [
         1066,
         "Vincent Nelson",
         "USS Henderson\nFPO AP 87389",
         "262.176.4956x738",
         "dustin59@hotmail.com",
         "2022-10-24",
         "9999-12-31"
        ],
        [
         1086,
         "Anthony Ford",
         "0148 Lowery Estate Apt. 377\nLake Cindy, NC 32001",
         "879-248-0686x56916",
         "justinbailey@perez-smith.biz",
         "2023-07-07",
         "9999-12-31"
        ],
        [
         1053,
         "Nicholas Butler",
         "96161 Mark Creek Apt. 574\nNew Moniqueshire, OK 35904",
         "130-645-0302x66302",
         "hfrank@pope-rose.com",
         "2022-10-21",
         "9999-12-31"
        ],
        [
         1060,
         "Denise Parker",
         "26328 Hector Orchard Suite 735\nNew Charlesfurt, ME 57730",
         "1577292803",
         "carolgarrison@cobb.org",
         "2023-07-17",
         "9999-12-31"
        ],
        [
         1056,
         "Thomas Fleming",
         "64049 Megan Mews Suite 377\nEast Dianamouth, CT 09338",
         "113.716.4320",
         "watsonstacey@hotmail.com",
         "2023-03-23",
         "9999-12-31"
        ],
        [
         1097,
         "Gabriel Decker",
         "Unit 4050 Box 7535\nDPO AE 13098",
         "403.820.8864x0672",
         "nguyenjennifer@peterson-mitchell.net",
         "2022-09-29",
         "9999-12-31"
        ],
        [
         1088,
         "Cole Rubio",
         "36623 Ramsey Mountains Apt. 234\nSouth Carriemouth, WY 23697",
         "8188179800",
         "valenciaandrew@long.net",
         "2022-09-08",
         "9999-12-31"
        ],
        [
         1048,
         "Harold Vasquez",
         "6743 Cooper Ports Apt. 432\nSmithton, WI 94915",
         "001-258-362-6706x48787",
         "sarahharris@gmail.com",
         "2023-02-03",
         "9999-12-31"
        ],
        [
         1054,
         "Jose Abbott",
         "506 Courtney Canyon Apt. 598\nDevinmouth, DE 52302",
         "278.414.2902x1796",
         "charleshughes@gmail.com",
         "2023-01-21",
         "9999-12-31"
        ],
        [
         1069,
         "Andrew Collins",
         "37675 Spencer Alley\nChadmouth, TN 22521",
         "765.885.9782x98684",
         "daniel62@fields.info",
         "2023-05-05",
         "9999-12-31"
        ],
        [
         1090,
         "Mark Wong",
         "3642 Joshua Corner Apt. 327\nSouth Chadstad, MO 95945",
         "776-238-1119x1824",
         "angela00@yahoo.com",
         "2022-11-07",
         "9999-12-31"
        ],
        [
         1077,
         "Cheryl Edwards",
         "95025 Martinez Drives\nPort Tammyberg, OR 82927",
         "660.870.4838x29938",
         "zwallace@gmail.com",
         "2023-03-20",
         "9999-12-31"
        ],
        [
         1026,
         "Courtney Myers",
         "92730 Mccoy Ville Apt. 813\nWest Walterburgh, KY 26690",
         "001-256-984-5119",
         "qbarrett@yahoo.com",
         "2023-05-24",
         "9999-12-31"
        ],
        [
         1074,
         "David Bryant",
         "191 Kelly Terrace Apt. 686\nTaylorville, NY 06351",
         "001-430-265-0785x245",
         "mwilkinson@johnson.net",
         "2022-08-19",
         "9999-12-31"
        ],
        [
         1039,
         "Michael Todd",
         "2620 Tyler Mill Suite 442\nThompsonhaven, NY 60834",
         "153.085.8257x513",
         "heatherreese@diaz-greene.org",
         "2023-02-01",
         "9999-12-31"
        ],
        [
         1015,
         "John Allison",
         "165 Jasmine Square\nWeaverbury, GA 77553",
         "001-415-337-2883x8689",
         "johnmoore@hotmail.com",
         "2023-04-25",
         "9999-12-31"
        ],
        [
         1013,
         "Willie Smith",
         "16468 Williams Ports\nLake Tylerfurt, IA 97660",
         "(469)888-4572x704",
         "barrylee@gmail.com",
         "2023-05-25",
         "9999-12-31"
        ],
        [
         1017,
         "Pamela Perkins",
         "5651 Pearson Trail Suite 285\nLake Tyler, NJ 06477",
         "001-477-494-9842x168",
         "vasquezchristina@peters.net",
         "2023-06-05",
         "9999-12-31"
        ],
        [
         1083,
         "Sean Norman",
         "843 Martin Shoal\nLake Andreaville, TN 85585",
         "001-470-296-8420x0655",
         "ksnow@richardson.biz",
         "2023-06-07",
         "9999-12-31"
        ],
        [
         1023,
         "Natalie Pennington",
         "4969 Lewis Port\nPort Catherineview, MN 78390",
         "(195)327-1676",
         "ramosnatalie@stout-moses.net",
         "2023-02-23",
         "9999-12-31"
        ],
        [
         1050,
         "Suzanne Nelson",
         "58493 Colin Stream Apt. 787\nPort Laurieburgh, FL 26451",
         "+1-800-386-9692x065",
         "jasonthomas@gray.com",
         "2023-07-07",
         "9999-12-31"
        ],
        [
         1005,
         "Lisa Wilson",
         "324 Smith Springs\nLake Kathleen, MI 46779",
         "001-398-400-0662x13884",
         "plynn@singh.com",
         "2022-11-13",
         "9999-12-31"
        ],
        [
         1035,
         "Peter Lopez",
         "202 Macdonald Mountain Suite 452\nNorth Ashleyhaven, IN 48938",
         "(283)270-6720",
         "carpenterdylan@bates-roberts.org",
         "2023-06-28",
         "9999-12-31"
        ],
        [
         1095,
         "Melissa Jackson",
         "00726 Sean Mountain Suite 299\nEast Juan, WV 15026",
         "(228)445-6060x3013",
         "jennifergaines@ray.com",
         "2022-08-15",
         "9999-12-31"
        ],
        [
         1079,
         "Ruben Parrish",
         "02681 Jones Harbors\nSouth Kristina, LA 87175",
         "252.977.2962",
         "cbrowning@english.biz",
         "2023-02-28",
         "9999-12-31"
        ],
        [
         1098,
         "Sarah Alexander",
         "1811 Lisa Lake\nChristopherstad, NC 00601",
         "4675134336",
         "zwest@boyd-torres.com",
         "2022-07-30",
         "9999-12-31"
        ],
        [
         1003,
         "Marissa Blair",
         "370 Rodriguez Station Suite 432\nJenkinsmouth, NY 12919",
         "+1-009-154-3329x478",
         "dschwartz@gmail.com",
         "2022-11-04",
         "9999-12-31"
        ],
        [
         1064,
         "Brandon Merritt",
         "2491 Jason Fields\nWest Michaelbury, DC 20290",
         "854-351-7495x6687",
         "sean50@yahoo.com",
         "2022-12-10",
         "9999-12-31"
        ],
        [
         1085,
         "Candace Smith",
         "327 James Lakes Suite 476\nWest Kyle, IL 49672",
         "(076)686-6167x055",
         "cassidymiller@stewart.com",
         "2022-08-10",
         "9999-12-31"
        ],
        [
         1014,
         "John Peterson",
         "25762 Jill Key\nLeslieport, IL 26675",
         "+1-629-094-4637",
         "gjoseph@jennings.com",
         "2023-04-17",
         "9999-12-31"
        ],
        [
         1019,
         "Paul Jones",
         "7793 White Plains Apt. 667\nSmithfort, MD 39017",
         "7012178815",
         "darren45@morales-roberts.com",
         "2022-11-09",
         "9999-12-31"
        ],
        [
         1002,
         "Belinda Walsh",
         "811 Daniel Crescent\nVaughnland, DE 12902",
         "(124)398-7985x7797",
         "theresa38@murphy.com",
         "2022-11-22",
         "9999-12-31"
        ],
        [
         1096,
         "Jodi Brown",
         "86107 Tyler Plains Apt. 190\nNew Benjaminburgh, WI 37527",
         "001-710-270-0166x23248",
         "clayton58@morris-estrada.com",
         "2022-09-20",
         "9999-12-31"
        ],
        [
         1012,
         "Jason Bowman",
         "07748 Wiggins Park\nHallport, MD 39640",
         "696.318.3009x3705",
         "tcooke@yahoo.com",
         "2022-10-04",
         "9999-12-31"
        ],
        [
         1067,
         "Thomas Bautista",
         "454 Nathan Skyway\nWest Matthew, MN 39102",
         "(549)528-0623x24086",
         "vtrujillo@randall.com",
         "2023-01-09",
         "9999-12-31"
        ],
        [
         1001,
         "Elizabeth Olson",
         "05736 Trevor Ville Suite 638\nRobertton, OR 38207",
         "260.694.4065x215",
         "tammy97@cobb-clarke.com",
         "2022-09-22",
         "9999-12-31"
        ],
        [
         1020,
         "Madison Burns",
         "51141 Hart Locks Suite 297\nErinmouth, WY 80641",
         "(076)048-2458",
         "xdoyle@peck-salas.biz",
         "2023-07-11",
         "9999-12-31"
        ],
        [
         1043,
         "Jennifer Berry",
         "049 Ford Radial\nPort Jimmy, MO 06619",
         "001-155-136-4225x03698",
         "amanda86@reese-alvarado.com",
         "2022-08-20",
         "9999-12-31"
        ],
        [
         1087,
         "Laura Gaines",
         "PSC 1657, Box 0716\nAPO AA 53357",
         "220.591.8219",
         "linda44@gmail.com",
         "2023-07-08",
         "9999-12-31"
        ],
        [
         1009,
         "Bridget Morris",
         "2915 Theresa Lakes Suite 127\nRachelberg, NY 70405",
         "(362)855-0710x194",
         "fharris@gmail.com",
         "2023-01-30",
         "9999-12-31"
        ],
        [
         1070,
         "Alexander Franklin",
         "66072 Mosley Rapids Suite 380\nSouth Adrienneburgh, UT 96769",
         "309.907.9642",
         "pbenson@cruz.net",
         "2022-08-25",
         "9999-12-31"
        ],
        [
         1058,
         "Rachel Ward",
         "04357 Joseph Rapids\nLake Jamesbury, KY 79474",
         "+1-252-289-2233x5717",
         "zlong@hotmail.com",
         "2023-01-31",
         "9999-12-31"
        ],
        [
         1059,
         "Alicia Saunders",
         "462 Michael Glen\nJosephberg, DC 93372",
         "907-146-7133",
         "jessewatson@hotmail.com",
         "2022-08-04",
         "9999-12-31"
        ],
        [
         1065,
         "Alyssa Cruz",
         "797 Rachel Vista\nRobertborough, NV 89566",
         "162.434.5015x916",
         "dnavarro@ford-bell.com",
         "2023-01-21",
         "9999-12-31"
        ]
       ],
       "datasetInfos": [],
       "dbfsResultPath": null,
       "isJsonSchema": true,
       "metadata": {},
       "overflow": false,
       "plotOptions": {
        "customPlotOptions": {},
        "displayType": "table",
        "pivotAggregation": null,
        "pivotColumns": null,
        "xColumns": null,
        "yColumns": null
       },
       "removedWidgets": [],
       "schema": [
        {
         "metadata": "{}",
         "name": "customer_id",
         "type": "\"integer\""
        },
        {
         "metadata": "{}",
         "name": "customer_name",
         "type": "\"string\""
        },
        {
         "metadata": "{}",
         "name": "customer_address",
         "type": "\"string\""
        },
        {
         "metadata": "{}",
         "name": "phone_number",
         "type": "\"string\""
        },
        {
         "metadata": "{}",
         "name": "email",
         "type": "\"string\""
        },
        {
         "metadata": "{\"__detected_date_formats\":\"yyyy-M-d\"}",
         "name": "valid_from",
         "type": "\"date\""
        },
        {
         "metadata": "{\"__detected_date_formats\":\"yyyy-M-d\"}",
         "name": "valid_to",
         "type": "\"date\""
        }
       ],
       "type": "table"
      }
     },
     "output_type": "display_data"
    },
    {
     "output_type": "stream",
     "name": "stderr",
     "output_type": "stream",
     "text": [
      "/databricks/spark/python/pyspark/sql/dataframe.py:160: UserWarning: DataFrame constructor is internal. Do not directly use it.\n  warnings.warn(\"DataFrame constructor is internal. Do not directly use it.\")\n"
     ]
    },
    {
     "output_type": "display_data",
     "data": {
      "text/html": [
       "<style scoped>\n",
       "  .table-result-container {\n",
       "    max-height: 300px;\n",
       "    overflow: auto;\n",
       "  }\n",
       "  table, th, td {\n",
       "    border: 1px solid black;\n",
       "    border-collapse: collapse;\n",
       "  }\n",
       "  th, td {\n",
       "    padding: 5px;\n",
       "  }\n",
       "  th {\n",
       "    text-align: left;\n",
       "  }\n",
       "</style><div class='table-result-container'><table class='table-result'><thead style='background-color: white'><tr><th>check</th><th>check_level</th><th>check_status</th><th>constraint</th><th>constraint_status</th><th>constraint_message</th></tr></thead><tbody><tr><td>Booking Data Check</td><td>Error</td><td>Success</td><td>SizeConstraint(Size(None))</td><td>Success</td><td></td></tr><tr><td>Booking Data Check</td><td>Error</td><td>Success</td><td>UniquenessConstraint(Uniqueness(List(booking_id),None,None))</td><td>Success</td><td></td></tr><tr><td>Booking Data Check</td><td>Error</td><td>Success</td><td>CompletenessConstraint(Completeness(customer_id,None,None))</td><td>Success</td><td></td></tr><tr><td>Booking Data Check</td><td>Error</td><td>Success</td><td>CompletenessConstraint(Completeness(amount,None,None))</td><td>Success</td><td></td></tr><tr><td>Booking Data Check</td><td>Error</td><td>Success</td><td>ComplianceConstraint(Compliance(amount is non-negative,COALESCE(CAST(amount AS DECIMAL(20,10)), 0.0) >= 0,None,List(amount),None))</td><td>Success</td><td></td></tr><tr><td>Booking Data Check</td><td>Error</td><td>Success</td><td>ComplianceConstraint(Compliance(quantity is non-negative,COALESCE(CAST(quantity AS DECIMAL(20,10)), 0.0) >= 0,None,List(quantity),None))</td><td>Success</td><td></td></tr><tr><td>Booking Data Check</td><td>Error</td><td>Success</td><td>ComplianceConstraint(Compliance(discount is non-negative,COALESCE(CAST(discount AS DECIMAL(20,10)), 0.0) >= 0,None,List(discount),None))</td><td>Success</td><td></td></tr></tbody></table></div>"
      ]
     },
     "metadata": {
      "application/vnd.databricks.v1+output": {
       "addedWidgets": {},
       "aggData": [],
       "aggError": "",
       "aggOverflow": false,
       "aggSchema": [],
       "aggSeriesLimitReached": false,
       "aggType": "",
       "arguments": {},
       "columnCustomDisplayInfos": {},
       "data": [
        [
         "Booking Data Check",
         "Error",
         "Success",
         "SizeConstraint(Size(None))",
         "Success",
         ""
        ],
        [
         "Booking Data Check",
         "Error",
         "Success",
         "UniquenessConstraint(Uniqueness(List(booking_id),None,None))",
         "Success",
         ""
        ],
        [
         "Booking Data Check",
         "Error",
         "Success",
         "CompletenessConstraint(Completeness(customer_id,None,None))",
         "Success",
         ""
        ],
        [
         "Booking Data Check",
         "Error",
         "Success",
         "CompletenessConstraint(Completeness(amount,None,None))",
         "Success",
         ""
        ],
        [
         "Booking Data Check",
         "Error",
         "Success",
         "ComplianceConstraint(Compliance(amount is non-negative,COALESCE(CAST(amount AS DECIMAL(20,10)), 0.0) >= 0,None,List(amount),None))",
         "Success",
         ""
        ],
        [
         "Booking Data Check",
         "Error",
         "Success",
         "ComplianceConstraint(Compliance(quantity is non-negative,COALESCE(CAST(quantity AS DECIMAL(20,10)), 0.0) >= 0,None,List(quantity),None))",
         "Success",
         ""
        ],
        [
         "Booking Data Check",
         "Error",
         "Success",
         "ComplianceConstraint(Compliance(discount is non-negative,COALESCE(CAST(discount AS DECIMAL(20,10)), 0.0) >= 0,None,List(discount),None))",
         "Success",
         ""
        ]
       ],
       "datasetInfos": [],
       "dbfsResultPath": null,
       "isJsonSchema": true,
       "metadata": {},
       "overflow": false,
       "plotOptions": {
        "customPlotOptions": {},
        "displayType": "table",
        "pivotAggregation": null,
        "pivotColumns": null,
        "xColumns": null,
        "yColumns": null
       },
       "removedWidgets": [],
       "schema": [
        {
         "metadata": "{}",
         "name": "check",
         "type": "\"string\""
        },
        {
         "metadata": "{}",
         "name": "check_level",
         "type": "\"string\""
        },
        {
         "metadata": "{}",
         "name": "check_status",
         "type": "\"string\""
        },
        {
         "metadata": "{}",
         "name": "constraint",
         "type": "\"string\""
        },
        {
         "metadata": "{}",
         "name": "constraint_status",
         "type": "\"string\""
        },
        {
         "metadata": "{}",
         "name": "constraint_message",
         "type": "\"string\""
        }
       ],
       "type": "table"
      }
     },
     "output_type": "display_data"
    },
    {
     "output_type": "display_data",
     "data": {
      "text/html": [
       "<style scoped>\n",
       "  .table-result-container {\n",
       "    max-height: 300px;\n",
       "    overflow: auto;\n",
       "  }\n",
       "  table, th, td {\n",
       "    border: 1px solid black;\n",
       "    border-collapse: collapse;\n",
       "  }\n",
       "  th, td {\n",
       "    padding: 5px;\n",
       "  }\n",
       "  th {\n",
       "    text-align: left;\n",
       "  }\n",
       "</style><div class='table-result-container'><table class='table-result'><thead style='background-color: white'><tr><th>check</th><th>check_level</th><th>check_status</th><th>constraint</th><th>constraint_status</th><th>constraint_message</th></tr></thead><tbody><tr><td>Customer Data Check</td><td>Error</td><td>Success</td><td>SizeConstraint(Size(None))</td><td>Success</td><td></td></tr><tr><td>Customer Data Check</td><td>Error</td><td>Success</td><td>UniquenessConstraint(Uniqueness(List(customer_id),None,None))</td><td>Success</td><td></td></tr><tr><td>Customer Data Check</td><td>Error</td><td>Success</td><td>CompletenessConstraint(Completeness(customer_name,None,None))</td><td>Success</td><td></td></tr><tr><td>Customer Data Check</td><td>Error</td><td>Success</td><td>CompletenessConstraint(Completeness(customer_address,None,None))</td><td>Success</td><td></td></tr><tr><td>Customer Data Check</td><td>Error</td><td>Success</td><td>CompletenessConstraint(Completeness(phone_number,None,None))</td><td>Success</td><td></td></tr><tr><td>Customer Data Check</td><td>Error</td><td>Success</td><td>CompletenessConstraint(Completeness(email,None,None))</td><td>Success</td><td></td></tr></tbody></table></div>"
      ]
     },
     "metadata": {
      "application/vnd.databricks.v1+output": {
       "addedWidgets": {},
       "aggData": [],
       "aggError": "",
       "aggOverflow": false,
       "aggSchema": [],
       "aggSeriesLimitReached": false,
       "aggType": "",
       "arguments": {},
       "columnCustomDisplayInfos": {},
       "data": [
        [
         "Customer Data Check",
         "Error",
         "Success",
         "SizeConstraint(Size(None))",
         "Success",
         ""
        ],
        [
         "Customer Data Check",
         "Error",
         "Success",
         "UniquenessConstraint(Uniqueness(List(customer_id),None,None))",
         "Success",
         ""
        ],
        [
         "Customer Data Check",
         "Error",
         "Success",
         "CompletenessConstraint(Completeness(customer_name,None,None))",
         "Success",
         ""
        ],
        [
         "Customer Data Check",
         "Error",
         "Success",
         "CompletenessConstraint(Completeness(customer_address,None,None))",
         "Success",
         ""
        ],
        [
         "Customer Data Check",
         "Error",
         "Success",
         "CompletenessConstraint(Completeness(phone_number,None,None))",
         "Success",
         ""
        ],
        [
         "Customer Data Check",
         "Error",
         "Success",
         "CompletenessConstraint(Completeness(email,None,None))",
         "Success",
         ""
        ]
       ],
       "datasetInfos": [],
       "dbfsResultPath": null,
       "isJsonSchema": true,
       "metadata": {},
       "overflow": false,
       "plotOptions": {
        "customPlotOptions": {},
        "displayType": "table",
        "pivotAggregation": null,
        "pivotColumns": null,
        "xColumns": null,
        "yColumns": null
       },
       "removedWidgets": [],
       "schema": [
        {
         "metadata": "{}",
         "name": "check",
         "type": "\"string\""
        },
        {
         "metadata": "{}",
         "name": "check_level",
         "type": "\"string\""
        },
        {
         "metadata": "{}",
         "name": "check_status",
         "type": "\"string\""
        },
        {
         "metadata": "{}",
         "name": "constraint",
         "type": "\"string\""
        },
        {
         "metadata": "{}",
         "name": "constraint_status",
         "type": "\"string\""
        },
        {
         "metadata": "{}",
         "name": "constraint_message",
         "type": "\"string\""
        }
       ],
       "type": "table"
      }
     },
     "output_type": "display_data"
    },
    {
     "output_type": "display_data",
     "data": {
      "text/html": [
       "<style scoped>\n",
       "  .table-result-container {\n",
       "    max-height: 300px;\n",
       "    overflow: auto;\n",
       "  }\n",
       "  table, th, td {\n",
       "    border: 1px solid black;\n",
       "    border-collapse: collapse;\n",
       "  }\n",
       "  th, td {\n",
       "    padding: 5px;\n",
       "  }\n",
       "  th {\n",
       "    text-align: left;\n",
       "  }\n",
       "</style><div class='table-result-container'><table class='table-result'><thead style='background-color: white'><tr><th>booking_type</th><th>customer_id</th><th>total_amount_sum</th><th>total_quantity_sum</th></tr></thead><tbody><tr><td>Flight</td><td>1007</td><td>1367</td><td>6</td></tr><tr><td>Hotel</td><td>1022</td><td>497</td><td>8</td></tr><tr><td>Flight</td><td>1099</td><td>1863</td><td>9</td></tr><tr><td>Flight</td><td>1008</td><td>480</td><td>3</td></tr><tr><td>Hotel</td><td>1099</td><td>246</td><td>1</td></tr><tr><td>Hotel</td><td>1003</td><td>-49</td><td>5</td></tr><tr><td>Hotel</td><td>1096</td><td>121</td><td>4</td></tr><tr><td>Flight</td><td>1078</td><td>180</td><td>4</td></tr><tr><td>Hotel</td><td>1047</td><td>235</td><td>2</td></tr><tr><td>Flight</td><td>1042</td><td>375</td><td>6</td></tr><tr><td>Hotel</td><td>1078</td><td>135</td><td>4</td></tr><tr><td>Hotel</td><td>1086</td><td>793</td><td>5</td></tr><tr><td>Hotel</td><td>1060</td><td>811</td><td>8</td></tr><tr><td>Hotel</td><td>1077</td><td>229</td><td>5</td></tr><tr><td>Flight</td><td>1056</td><td>152</td><td>5</td></tr><tr><td>Hotel</td><td>1098</td><td>955</td><td>4</td></tr><tr><td>Flight</td><td>1017</td><td>855</td><td>2</td></tr><tr><td>Hotel</td><td>1064</td><td>135</td><td>4</td></tr><tr><td>Hotel</td><td>1083</td><td>284</td><td>3</td></tr><tr><td>Flight</td><td>1012</td><td>761</td><td>2</td></tr><tr><td>Hotel</td><td>1087</td><td>789</td><td>4</td></tr><tr><td>Flight</td><td>1070</td><td>838</td><td>1</td></tr><tr><td>Hotel</td><td>1062</td><td>768</td><td>4</td></tr><tr><td>Hotel</td><td>1038</td><td>106</td><td>4</td></tr><tr><td>Hotel</td><td>1053</td><td>737</td><td>6</td></tr><tr><td>Flight</td><td>1097</td><td>652</td><td>1</td></tr><tr><td>Hotel</td><td>1019</td><td>134</td><td>9</td></tr><tr><td>Flight</td><td>1033</td><td>280</td><td>9</td></tr><tr><td>Flight</td><td>1006</td><td>1264</td><td>9</td></tr><tr><td>Flight</td><td>1093</td><td>699</td><td>3</td></tr><tr><td>Hotel</td><td>1066</td><td>156</td><td>5</td></tr><tr><td>Hotel</td><td>1074</td><td>567</td><td>3</td></tr><tr><td>Hotel</td><td>1023</td><td>724</td><td>4</td></tr><tr><td>Flight</td><td>1002</td><td>518</td><td>1</td></tr><tr><td>Flight</td><td>1086</td><td>904</td><td>2</td></tr><tr><td>Flight</td><td>1020</td><td>362</td><td>5</td></tr><tr><td>Flight</td><td>1043</td><td>111</td><td>3</td></tr><tr><td>Hotel</td><td>1049</td><td>962</td><td>1</td></tr><tr><td>Hotel</td><td>1030</td><td>593</td><td>3</td></tr><tr><td>Hotel</td><td>1017</td><td>607</td><td>3</td></tr><tr><td>Flight</td><td>1083</td><td>829</td><td>2</td></tr><tr><td>Flight</td><td>1013</td><td>775</td><td>1</td></tr><tr><td>Hotel</td><td>1079</td><td>551</td><td>4</td></tr><tr><td>Flight</td><td>1064</td><td>866</td><td>6</td></tr><tr><td>Hotel</td><td>1014</td><td>385</td><td>3</td></tr><tr><td>Flight</td><td>1057</td><td>604</td><td>3</td></tr><tr><td>Hotel</td><td>1054</td><td>492</td><td>5</td></tr><tr><td>Hotel</td><td>1035</td><td>798</td><td>1</td></tr><tr><td>Flight</td><td>1095</td><td>265</td><td>1</td></tr><tr><td>Hotel</td><td>1001</td><td>364</td><td>3</td></tr><tr><td>Flight</td><td>1059</td><td>386</td><td>4</td></tr><tr><td>Flight</td><td>1062</td><td>645</td><td>3</td></tr><tr><td>Flight</td><td>1088</td><td>57</td><td>1</td></tr><tr><td>Flight</td><td>1022</td><td>13</td><td>2</td></tr><tr><td>Hotel</td><td>1009</td><td>149</td><td>5</td></tr><tr><td>Hotel</td><td>1037</td><td>565</td><td>3</td></tr><tr><td>Hotel</td><td>1089</td><td>278</td><td>4</td></tr><tr><td>Flight</td><td>1030</td><td>1822</td><td>7</td></tr><tr><td>Hotel</td><td>1056</td><td>1484</td><td>11</td></tr><tr><td>Flight</td><td>1048</td><td>97</td><td>1</td></tr><tr><td>Hotel</td><td>1090</td><td>426</td><td>1</td></tr><tr><td>Flight</td><td>1039</td><td>1208</td><td>4</td></tr><tr><td>Hotel</td><td>1085</td><td>298</td><td>2</td></tr><tr><td>Hotel</td><td>1036</td><td>286</td><td>3</td></tr><tr><td>Hotel</td><td>1067</td><td>556</td><td>1</td></tr><tr><td>Flight</td><td>1058</td><td>237</td><td>2</td></tr><tr><td>Hotel</td><td>1093</td><td>1001</td><td>5</td></tr><tr><td>Hotel</td><td>1081</td><td>1302</td><td>6</td></tr><tr><td>Flight</td><td>1021</td><td>177</td><td>1</td></tr><tr><td>Flight</td><td>1069</td><td>862</td><td>2</td></tr><tr><td>Hotel</td><td>1026</td><td>1180</td><td>7</td></tr><tr><td>Flight</td><td>1015</td><td>300</td><td>3</td></tr><tr><td>Hotel</td><td>1013</td><td>1693</td><td>4</td></tr><tr><td>Hotel</td><td>1050</td><td>855</td><td>4</td></tr><tr><td>Flight</td><td>1005</td><td>109</td><td>4</td></tr><tr><td>Flight</td><td>1065</td><td>58</td><td>5</td></tr></tbody></table></div>"
      ]
     },
     "metadata": {
      "application/vnd.databricks.v1+output": {
       "addedWidgets": {},
       "aggData": [],
       "aggError": "",
       "aggOverflow": false,
       "aggSchema": [],
       "aggSeriesLimitReached": false,
       "aggType": "",
       "arguments": {},
       "columnCustomDisplayInfos": {},
       "data": [
        [
         "Flight",
         1007,
         1367,
         6
        ],
        [
         "Hotel",
         1022,
         497,
         8
        ],
        [
         "Flight",
         1099,
         1863,
         9
        ],
        [
         "Flight",
         1008,
         480,
         3
        ],
        [
         "Hotel",
         1099,
         246,
         1
        ],
        [
         "Hotel",
         1003,
         -49,
         5
        ],
        [
         "Hotel",
         1096,
         121,
         4
        ],
        [
         "Flight",
         1078,
         180,
         4
        ],
        [
         "Hotel",
         1047,
         235,
         2
        ],
        [
         "Flight",
         1042,
         375,
         6
        ],
        [
         "Hotel",
         1078,
         135,
         4
        ],
        [
         "Hotel",
         1086,
         793,
         5
        ],
        [
         "Hotel",
         1060,
         811,
         8
        ],
        [
         "Hotel",
         1077,
         229,
         5
        ],
        [
         "Flight",
         1056,
         152,
         5
        ],
        [
         "Hotel",
         1098,
         955,
         4
        ],
        [
         "Flight",
         1017,
         855,
         2
        ],
        [
         "Hotel",
         1064,
         135,
         4
        ],
        [
         "Hotel",
         1083,
         284,
         3
        ],
        [
         "Flight",
         1012,
         761,
         2
        ],
        [
         "Hotel",
         1087,
         789,
         4
        ],
        [
         "Flight",
         1070,
         838,
         1
        ],
        [
         "Hotel",
         1062,
         768,
         4
        ],
        [
         "Hotel",
         1038,
         106,
         4
        ],
        [
         "Hotel",
         1053,
         737,
         6
        ],
        [
         "Flight",
         1097,
         652,
         1
        ],
        [
         "Hotel",
         1019,
         134,
         9
        ],
        [
         "Flight",
         1033,
         280,
         9
        ],
        [
         "Flight",
         1006,
         1264,
         9
        ],
        [
         "Flight",
         1093,
         699,
         3
        ],
        [
         "Hotel",
         1066,
         156,
         5
        ],
        [
         "Hotel",
         1074,
         567,
         3
        ],
        [
         "Hotel",
         1023,
         724,
         4
        ],
        [
         "Flight",
         1002,
         518,
         1
        ],
        [
         "Flight",
         1086,
         904,
         2
        ],
        [
         "Flight",
         1020,
         362,
         5
        ],
        [
         "Flight",
         1043,
         111,
         3
        ],
        [
         "Hotel",
         1049,
         962,
         1
        ],
        [
         "Hotel",
         1030,
         593,
         3
        ],
        [
         "Hotel",
         1017,
         607,
         3
        ],
        [
         "Flight",
         1083,
         829,
         2
        ],
        [
         "Flight",
         1013,
         775,
         1
        ],
        [
         "Hotel",
         1079,
         551,
         4
        ],
        [
         "Flight",
         1064,
         866,
         6
        ],
        [
         "Hotel",
         1014,
         385,
         3
        ],
        [
         "Flight",
         1057,
         604,
         3
        ],
        [
         "Hotel",
         1054,
         492,
         5
        ],
        [
         "Hotel",
         1035,
         798,
         1
        ],
        [
         "Flight",
         1095,
         265,
         1
        ],
        [
         "Hotel",
         1001,
         364,
         3
        ],
        [
         "Flight",
         1059,
         386,
         4
        ],
        [
         "Flight",
         1062,
         645,
         3
        ],
        [
         "Flight",
         1088,
         57,
         1
        ],
        [
         "Flight",
         1022,
         13,
         2
        ],
        [
         "Hotel",
         1009,
         149,
         5
        ],
        [
         "Hotel",
         1037,
         565,
         3
        ],
        [
         "Hotel",
         1089,
         278,
         4
        ],
        [
         "Flight",
         1030,
         1822,
         7
        ],
        [
         "Hotel",
         1056,
         1484,
         11
        ],
        [
         "Flight",
         1048,
         97,
         1
        ],
        [
         "Hotel",
         1090,
         426,
         1
        ],
        [
         "Flight",
         1039,
         1208,
         4
        ],
        [
         "Hotel",
         1085,
         298,
         2
        ],
        [
         "Hotel",
         1036,
         286,
         3
        ],
        [
         "Hotel",
         1067,
         556,
         1
        ],
        [
         "Flight",
         1058,
         237,
         2
        ],
        [
         "Hotel",
         1093,
         1001,
         5
        ],
        [
         "Hotel",
         1081,
         1302,
         6
        ],
        [
         "Flight",
         1021,
         177,
         1
        ],
        [
         "Flight",
         1069,
         862,
         2
        ],
        [
         "Hotel",
         1026,
         1180,
         7
        ],
        [
         "Flight",
         1015,
         300,
         3
        ],
        [
         "Hotel",
         1013,
         1693,
         4
        ],
        [
         "Hotel",
         1050,
         855,
         4
        ],
        [
         "Flight",
         1005,
         109,
         4
        ],
        [
         "Flight",
         1065,
         58,
         5
        ]
       ],
       "datasetInfos": [],
       "dbfsResultPath": null,
       "isJsonSchema": true,
       "metadata": {},
       "overflow": false,
       "plotOptions": {
        "customPlotOptions": {},
        "displayType": "table",
        "pivotAggregation": null,
        "pivotColumns": null,
        "xColumns": null,
        "yColumns": null
       },
       "removedWidgets": [],
       "schema": [
        {
         "metadata": "{}",
         "name": "booking_type",
         "type": "\"string\""
        },
        {
         "metadata": "{}",
         "name": "customer_id",
         "type": "\"integer\""
        },
        {
         "metadata": "{}",
         "name": "total_amount_sum",
         "type": "\"long\""
        },
        {
         "metadata": "{}",
         "name": "total_quantity_sum",
         "type": "\"long\""
        }
       ],
       "type": "table"
      }
     },
     "output_type": "display_data"
    }
   ],
   "source": [
    "from pyspark.sql.functions import col, lit, current_timestamp, sum as _sum\n",
    "from delta.tables import DeltaTable\n",
    "from pydeequ.checks import Check, CheckLevel\n",
    "from pydeequ.verification import VerificationSuite, VerificationResult\n",
    "import os\n",
    "\n",
    "print(os.environ['SPARK_VERSION'])\n",
    "# Get job parameters from Databricks\n",
    "date_str = dbutils.widgets.get(\"arrival_date\")\n",
    "# date_str = \"2024-07-25\"\n",
    "\n",
    "# Define file paths based on date parameter\n",
    "booking_data = f\"/Volumes/incremental_load/default/orders_data/booking_data/bookings_{date_str}.csv\"\n",
    "customer_data = f\"/Volumes/incremental_load/default/orders_data/customer_data/customers_{date_str}.csv\"\n",
    "print(booking_data)\n",
    "print(customer_data)\n",
    "\n",
    "# Read booking data\n",
    "booking_df = spark.read \\\n",
    "    .format(\"csv\") \\\n",
    "    .option(\"header\", \"true\") \\\n",
    "    .option(\"inferSchema\", \"true\") \\\n",
    "    .option(\"quote\", \"\\\"\") \\\n",
    "    .option(\"multiLine\", \"true\") \\\n",
    "    .load(booking_data)\n",
    "\n",
    "booking_df.printSchema()\n",
    "display(booking_data)\n",
    "\n",
    "# Read customer data for scd2 merge\n",
    "customer_df = spark.read \\\n",
    "    .format(\"csv\") \\\n",
    "    .option(\"header\", \"true\") \\\n",
    "    .option(\"inferSchema\", \"true\") \\\n",
    "    .option(\"quote\", \"\\\"\") \\\n",
    "    .option(\"multiLine\", \"true\") \\\n",
    "    .load(customer_data)\n",
    "\n",
    "customer_df.printSchema()\n",
    "display(customer_df)\n",
    "\n",
    "# Data Quality Checks on booking data\n",
    "check_incremental = Check(spark, CheckLevel.Error, \"Booking Data Check\") \\\n",
    "    .hasSize(lambda x: x > 0) \\\n",
    "    .isUnique(\"booking_id\", hint=\"Booking ID is not unique throught\") \\\n",
    "    .isComplete(\"customer_id\") \\\n",
    "    .isComplete(\"amount\") \\\n",
    "    .isNonNegative(\"amount\") \\\n",
    "    .isNonNegative(\"quantity\") \\\n",
    "    .isNonNegative(\"discount\")\n",
    "\n",
    "# Data Quality Checks on customer data\n",
    "# check_scd = Check(spark, CheckLevel.Error, \"Customer Data Check\") \\\n",
    "#     .hasSize(lambda x: x > 0) \\\n",
    "#     .isUnique(\"customer_id\") \\\n",
    "#     .isComplete(\"customer_name\") \\\n",
    "#     .isComplete(\"customer_address\") \\\n",
    "#     .isComplete(\"phone_number\") \\\n",
    "#     .isComplete(\"email\")\n",
    "\n",
    "check_scd = Check(spark, CheckLevel.Error, \"Customer Data Check\") \\\n",
    "    .hasSize(lambda x: x > 0) \\\n",
    "    .isUnique(\"customer_id\") \\\n",
    "    .isComplete(\"customer_name\") \\\n",
    "    .isComplete(\"customer_address\") \\\n",
    "    .isComplete(\"email\")\n",
    "\n",
    "# Run the verification suite\n",
    "booking_dq_check = VerificationSuite(spark) \\\n",
    "    .onData(booking_df) \\\n",
    "    .addCheck(check_incremental) \\\n",
    "    .run()\n",
    "\n",
    "customer_dq_check = VerificationSuite(spark) \\\n",
    "    .onData(customer_df) \\\n",
    "    .addCheck(check_scd) \\\n",
    "    .run()\n",
    "\n",
    "booking_dq_check_df = VerificationResult.checkResultsAsDataFrame(spark, booking_dq_check)\n",
    "display(booking_dq_check_df)\n",
    "\n",
    "customer_dq_check_df = VerificationResult.checkResultsAsDataFrame(spark, customer_dq_check)\n",
    "display(customer_dq_check_df)\n",
    "\n",
    "# Check if verification passed\n",
    "if booking_dq_check.status != \"Success\":\n",
    "    raise ValueError(\"Data Quality Checks Failed for Booking Data\")\n",
    "\n",
    "if customer_dq_check.status != \"Success\":\n",
    "    raise ValueError(\"Data Quality Checks Failed for Customer Data\")\n",
    "\n",
    "# Add ingestion timestamp to booking data\n",
    "booking_df_incremental = booking_df.withColumn(\"ingestion_time\", current_timestamp())\n",
    "\n",
    "# Join booking data with customer data\n",
    "df_joined = booking_df_incremental.join(customer_df, \"customer_id\")\n",
    "\n",
    "# Business transformation: calculate total cost after discount and filter\n",
    "df_transformed = df_joined \\\n",
    "    .withColumn(\"total_cost\", col(\"amount\") - col(\"discount\")) \\\n",
    "    .filter(col(\"quantity\") > 0)\n",
    "\n",
    "# Group by and aggregate df_transformed\n",
    "df_transformed_agg = df_transformed \\\n",
    "    .groupBy(\"booking_type\", \"customer_id\") \\\n",
    "    .agg(\n",
    "        _sum(\"total_cost\").alias(\"total_amount_sum\"),\n",
    "        _sum(\"quantity\").alias(\"total_quantity_sum\")\n",
    "    )\n",
    "\n",
    "# Check if the Delta table exists\n",
    "fact_table_path = \"incremental_load.default.booking_fact\"\n",
    "fact_table_exists = spark._jsparkSession.catalog().tableExists(fact_table_path)\n",
    "\n",
    "\n",
    "if fact_table_exists:\n",
    "    # Read the existing fact table\n",
    "    df_existing_fact = spark.read.format(\"delta\").table(fact_table_path)\n",
    "    \n",
    "    # Combine the aggregated data\n",
    "    df_combined = df_existing_fact.unionByName(df_transformed_agg, allowMissingColumns=True)\n",
    "    \n",
    "    # Perform another group by and aggregation on the combined data\n",
    "    df_final_agg = df_combined \\\n",
    "        .groupBy(\"booking_type\", \"customer_id\") \\\n",
    "        .agg(\n",
    "            _sum(\"total_amount_sum\").alias(\"total_amount_sum\"),\n",
    "            _sum(\"total_quantity_sum\").alias(\"total_quantity_sum\")\n",
    "        )\n",
    "else:\n",
    "    # If the fact table doesn't exist, use the aggregated transformed data directly\n",
    "    df_final_agg = df_transformed_agg\n",
    "\n",
    "display(df_final_agg)\n",
    "\n",
    "# Write the final aggregated data back to the Delta table\n",
    "df_final_agg.write \\\n",
    "    .format(\"delta\") \\\n",
    "    .mode(\"overwrite\") \\\n",
    "    .option(\"overwriteSchema\", \"true\") \\\n",
    "    .saveAsTable(fact_table_path)\n",
    "\n",
    "scd_table_path = \"incremental_load.default.customer_dim\"\n",
    "scd_table_exists = spark._jsparkSession.catalog().tableExists(scd_table_path)\n",
    "\n",
    "# Check if the customers table exists\n",
    "if scd_table_exists:\n",
    "    # Load the existing SCD table\n",
    "    scd_table = DeltaTable.forName(spark, scd_table_path)\n",
    "    display(scd_table.toDF())\n",
    "    \n",
    "    # Perform SCD2 merge logic\n",
    "    scd_table.alias(\"scd\") \\\n",
    "        .merge(\n",
    "            customer_df.alias(\"updates\"),\n",
    "            \"scd.customer_id = updates.customer_id and scd.valid_to = '9999-12-31'\"\n",
    "        ) \\\n",
    "        .whenMatchedUpdate(set={\n",
    "            \"valid_to\": \"updates.valid_from\",\n",
    "        }) \\\n",
    "        .execute()\n",
    "\n",
    "    customer_df.write.format(\"delta\").mode(\"append\").saveAsTable(scd_table_path)\n",
    "else:\n",
    "    # If the SCD table doesn't exist, write the customer data as a new Delta table\n",
    "    customer_df.write.format(\"delta\").mode(\"overwrite\").saveAsTable(scd_table_path)"
   ]
  },
  {
   "cell_type": "code",
   "execution_count": 0,
   "metadata": {
    "application/vnd.databricks.v1+cell": {
     "cellMetadata": {},
     "inputWidgets": {},
     "nuid": "c053fa5f-1323-496e-84bc-b25cb6fc733c",
     "showTitle": false,
     "tableResultSettingsMap": {},
     "title": ""
    }
   },
   "outputs": [],
   "source": []
  }
 ],
 "metadata": {
  "application/vnd.databricks.v1+notebook": {
   "computePreferences": null,
   "dashboards": [],
   "environmentMetadata": {
    "base_environment": "",
    "client": "1"
   },
   "language": "python",
   "notebookMetadata": {
    "pythonIndentUnit": 4
   },
   "notebookName": "Travel_Booking_SCD2_Merge",
   "widgets": {}
  },
  "language_info": {
   "name": "python"
  }
 },
 "nbformat": 4,
 "nbformat_minor": 0
}